{
 "cells": [
  {
   "cell_type": "code",
   "execution_count": null,
   "metadata": {},
   "outputs": [],
   "source": [
    "import numpy as np\n",
    "import pandas as pd\n",
    "from tqdm.auto import tqdm\n",
    "\n",
    "from notears import NOTEARS\n",
    "from notears.data import generate_continuous_dag, generate_random_data\n",
    "from notears.loss import LinearSEMLoss\n",
    "\n",
    "import matplotlib.pyplot as plt\n",
    "import seaborn as sns\n",
    "\n",
    "# Set seed for reproducability\n",
    "np.random.seed(122)"
   ]
  },
  {
   "cell_type": "markdown",
   "metadata": {},
   "source": [
    "# Data Inspection"
   ]
  },
  {
   "cell_type": "code",
   "execution_count": null,
   "metadata": {},
   "outputs": [],
   "source": [
    "\"\"\"\n",
    "Functions for plotting\n",
    "\"\"\"\n",
    "\n",
    "def plot_data(data):\n",
    "    _, nodes = data.shape\n",
    "    df_data = pd.DataFrame(\n",
    "        data=data, columns=[f'X{i+1}' for i in range(nodes)]\n",
    "    )\n",
    "    fig = sns.pairplot(df_data, height=2, plot_kws={'s':1.5})\n",
    "    fig.figure.suptitle('Pairplot of Data')\n",
    "    fig.tight_layout()\n",
    "\n",
    "def plot_dag(dag, ax=None, cmap='Grays'):\n",
    "    ax = plt.gca() if ax==None else ax\n",
    "    nodes, _ = dag.shape\n",
    "    im = ax.imshow(dag, cmap=cmap)\n",
    "    plt.colorbar(im, ax=ax)\n",
    "    ax.set_yticks([i for i in range(nodes)], [f'X{i+1}' for i in range(nodes)])\n",
    "    ax.set_xticks([i for i in range(nodes)], [f'X{i+1}' for i in range(nodes)])\n",
    "    ax.set_title('Visual Representation of Adjacency Matrix')"
   ]
  },
  {
   "cell_type": "code",
   "execution_count": null,
   "metadata": {},
   "outputs": [],
   "source": [
    "nodes, sparsity = 4, 0.5\n",
    "dag = generate_continuous_dag(nodes, sparsity)\n",
    "plot_dag(dag)"
   ]
  },
  {
   "cell_type": "code",
   "execution_count": null,
   "metadata": {},
   "outputs": [],
   "source": [
    "data = generate_random_data(dag, 1000, noise_scale=5)\n",
    "plot_data(data)"
   ]
  },
  {
   "cell_type": "markdown",
   "metadata": {},
   "source": [
    "# Association $\\neq$ Causation"
   ]
  },
  {
   "cell_type": "code",
   "execution_count": null,
   "metadata": {},
   "outputs": [],
   "source": [
    "from sklearn.linear_model import LinearRegression\n",
    "\n",
    "lr = LinearRegression()\n",
    "coef_matrix = np.zeros_like(dag)\n",
    "for var in range(dag.shape[0]):\n",
    "    other_vars = [other for other in range(dag.shape[0]) if other != var]\n",
    "    lr.fit(X=data[:, other_vars], y=data[:, var])\n",
    "    coef_matrix[other_vars, var] = lr.coef_\n",
    "\n",
    "plot_dag(coef_matrix)"
   ]
  },
  {
   "cell_type": "code",
   "execution_count": null,
   "metadata": {},
   "outputs": [],
   "source": [
    "nt = NOTEARS(0, 1e-8, 0.25, LinearSEMLoss())\n",
    "nt.fit(data)\n",
    "dag_found = nt.get_discovered_graph()\n",
    "\n",
    "plot_dag(dag_found)"
   ]
  },
  {
   "cell_type": "markdown",
   "metadata": {},
   "source": [
    "# Markov Equivalence Class\n",
    "Let's demonstrate when NOTEARS fails to find a unique solution:"
   ]
  },
  {
   "cell_type": "code",
   "execution_count": null,
   "metadata": {},
   "outputs": [],
   "source": [
    "from joblib import Parallel, delayed\n",
    "\n",
    "\n",
    "def run(data:np.ndarray, nt:NOTEARS):\n",
    "    result = nt.fit(data).get_discovered_graph()\n",
    "    return result\n",
    "\n",
    "def repeated_run(nt:NOTEARS, data:np.ndarray, n_runs:int) -> np.ndarray:\n",
    "    results = Parallel(n_jobs=-1)(\n",
    "        delayed(run)(data, nt) for _ in tqdm(range(n_runs), desc='Running Test', leave=False)\n",
    "    )\n",
    "    return results"
   ]
  },
  {
   "cell_type": "code",
   "execution_count": null,
   "metadata": {},
   "outputs": [],
   "source": [
    "dims = 4\n",
    "samples = 100\n",
    "\n",
    "custom_data = pd.DataFrame(\n",
    "    columns=[f'X{i+1}' for i in range(dims)],\n",
    "    data = np.random.normal(scale=2, size=(samples, dims))\n",
    ")\n",
    "\n",
    "# CREATE CUSTOM DEPENDENCIES\n",
    "custom_data['X1'] = custom_data['X2'] + custom_data['X4'] + #np.random.normal(scale=3, size=samples)\n",
    "custom_data['X3'] = custom_data['X1'] + #np.random.normal(scale=3, size=samples)\n",
    "\n",
    "plot_data(custom_data.values)"
   ]
  },
  {
   "cell_type": "code",
   "execution_count": null,
   "metadata": {},
   "outputs": [],
   "source": [
    "nt = NOTEARS(0, 1e-8, 0.25, LinearSEMLoss())\n",
    "results = repeated_run(nt, custom_data.values, n_runs=16)\n",
    "\n",
    "fig, axs = plt.subplots(4, 4)\n",
    "for i, result in enumerate(results):\n",
    "    plot_dag(result, ax=axs[i//4, i%4])\n",
    "    axs[i//4, i%4].set_title('')\n",
    "\n",
    "fig.suptitle('Demonstration Markov Equivalence Classes')\n",
    "fig.tight_layout()\n",
    "plt.show()"
   ]
  }
 ],
 "metadata": {
  "kernelspec": {
   "display_name": "ids",
   "language": "python",
   "name": "python3"
  },
  "language_info": {
   "codemirror_mode": {
    "name": "ipython",
    "version": 3
   },
   "file_extension": ".py",
   "mimetype": "text/x-python",
   "name": "python",
   "nbconvert_exporter": "python",
   "pygments_lexer": "ipython3",
   "version": "3.9.18"
  }
 },
 "nbformat": 4,
 "nbformat_minor": 2
}
